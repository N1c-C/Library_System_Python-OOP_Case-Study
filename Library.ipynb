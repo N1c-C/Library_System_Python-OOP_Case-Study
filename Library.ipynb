{
  "cells": [
    {
      "cell_type": "markdown",
      "metadata": {
        "id": "view-in-github",
        "colab_type": "text"
      },
      "source": [
        "<a href=\"https://colab.research.google.com/github/N1c-C/Library_System_Python-OOP_Case-Study/blob/master/Library.ipynb\" target=\"_parent\"><img src=\"https://colab.research.google.com/assets/colab-badge.svg\" alt=\"Open In Colab\"/></a>"
      ]
    },
    {
      "cell_type": "markdown",
      "source": [
        "# **Library System Demonstration**"
      ],
      "metadata": {
        "id": "ZHKvQrAb35kC"
      },
      "id": "ZHKvQrAb35kC"
    },
    {
      "cell_type": "markdown",
      "source": [
        "Clone the repository if the notebook is running on the Colab platform"
      ],
      "metadata": {
        "id": "f6XkJKXzl_ds"
      },
      "id": "f6XkJKXzl_ds"
    },
    {
      "cell_type": "code",
      "source": [
        "import sys\n",
        "import os\n",
        "\n",
        "# Search to see if colab exists in the sys modules\n",
        "COLAB = 'google.colab' in sys.modules\n",
        "\n",
        "if COLAB:\n",
        "  !git clone https://github.com/N1c-C/Library_System_Python-OOP_Case-Study LibSystem\n",
        "\n",
        "  #Add the cloned repo directory to the system path\n",
        "  sys.path.append('/content/LibSystem/')\n",
        "  print(\"'/content/LibSystem/', add to system path\")\n",
        "  os.chdir('/content/LibSystem/')"
      ],
      "metadata": {
        "colab": {
          "base_uri": "https://localhost:8080/"
        },
        "id": "E_eU_-aJjC7S",
        "outputId": "8c526873-321a-43f8-dbdf-68cd60f2afec"
      },
      "id": "E_eU_-aJjC7S",
      "execution_count": 1,
      "outputs": [
        {
          "output_type": "stream",
          "name": "stdout",
          "text": [
            "fatal: destination path 'LibSystem' already exists and is not an empty directory.\n",
            "'/content/LibSystem/', add to system path\n"
          ]
        }
      ]
    },
    {
      "cell_type": "markdown",
      "source": [
        "### **1.0 Inheritable Singleton Design Pattern**\n",
        "\n",
        "Strictly following the original 'Gang-of-Four' Singleton design pattern does not allow for an inherited singleton property. The only allowed instance of the class is stored in a class attribute `_instance` and the code needs to be repeated for each Class that requires the property.\n",
        "\n",
        "The following code demonstrates the issue."
      ],
      "metadata": {
        "id": "cwauLm0X4485"
      },
      "id": "cwauLm0X4485"
    },
    {
      "cell_type": "code",
      "execution_count": 2,
      "id": "628db011",
      "metadata": {
        "id": "628db011"
      },
      "outputs": [],
      "source": [
        "# Non inheritable class definition\n",
        "\n",
        "class SingletonDemo(object):\n",
        "    \"\"\" Allows one instance of SingletonDemo, Stored in self._instance\"\"\"\n",
        "    _instance = None\n",
        "\n",
        "    def __init__(self):\n",
        "        \"\"\"\n",
        "        The constructor instantiates a new object if one  does not already exist\n",
        "        \"\"\"\n",
        "        if SingletonDemo._instance == None:\n",
        "            SingletonDemo._instance = self\n",
        "\n",
        "    @classmethod\n",
        "    def get_instance(cls):\n",
        "        \"\"\"\n",
        "        Classmethod to fetch the current instance\n",
        "          Instantiates a new one if one does not already exist\"\"\"\n",
        "        if not cls._instance:\n",
        "            SingletonDemo()\n",
        "        return SingletonDemo._instance\n",
        "\n",
        "# Define 3 child classes of singletonDemo\n",
        "\n",
        "class A(SingletonDemo):\n",
        "    _instance = None\n",
        "\n",
        "class B(SingletonDemo):\n",
        "    _instance = None\n",
        "\n",
        "class C(SingletonDemo):\n",
        "    _instance = None\n",
        "\n",
        "# Instantiate the 3 classes plus an extra one for class A\n",
        "test_c = C().get_instance()\n",
        "test_b = B().get_instance()\n",
        "test_a = A().get_instance()\n",
        "test_d = C().get_instance()\n"
      ]
    },
    {
      "cell_type": "markdown",
      "source": [
        "##### **1.01 Test SingletonDemo Properties**"
      ],
      "metadata": {
        "id": "BtJVDBc6LPnM"
      },
      "id": "BtJVDBc6LPnM"
    },
    {
      "cell_type": "code",
      "source": [
        "# A Single object C is bound to all four variables\n",
        "print (test_c,'\\n',test_b,'\\n',test_a,'\\n',test_d,'\\n')\n",
        "\n",
        "if test_c is test_b:\n",
        "  print('\\nTrue: test_c and test_b are bound to the same instance')\n",
        "\n",
        "if isinstance(test_b, C) and isinstance(test_a, C) and isinstance(test_d, C):\n",
        "  print(\"\\nTrue: a,b and d are of type class C\")"
      ],
      "metadata": {
        "colab": {
          "base_uri": "https://localhost:8080/"
        },
        "id": "KBCGj6ZaoqmM",
        "outputId": "a8efd0d0-2924-42c2-aaef-94e0a09a2bd2"
      },
      "id": "KBCGj6ZaoqmM",
      "execution_count": 3,
      "outputs": [
        {
          "output_type": "stream",
          "name": "stdout",
          "text": [
            "<__main__.C object at 0x7aa1e41f63e0> \n",
            " <__main__.C object at 0x7aa1e41f63e0> \n",
            " <__main__.C object at 0x7aa1e41f63e0> \n",
            " <__main__.C object at 0x7aa1e41f63e0> \n",
            "\n",
            "\n",
            "True: test_c and test_b are bound to the same instance\n",
            "\n",
            "True: a,b and d are of type class C\n"
          ]
        }
      ]
    },
    {
      "cell_type": "markdown",
      "id": "59c32fa3",
      "metadata": {
        "id": "59c32fa3"
      },
      "source": [
        "### **1.1 Using a Class Dictionary**\n",
        "\n",
        "The `_Singleton` class defined in the Singleton.py script defines the class attribute `_instances` as a dictionary.\n",
        "\n",
        "A new class instance is cast as a string for the key with the instance being the value.\n",
        "\n",
        "This way, multiple classes can inherit the singleton property from the mixin class.\n",
        "\n",
        "\n"
      ]
    },
    {
      "cell_type": "code",
      "execution_count": 4,
      "id": "6bcafa03",
      "metadata": {
        "id": "6bcafa03"
      },
      "outputs": [],
      "source": [
        "from Singleton import _Singleton\n",
        "# Tests for Singleton() class\n",
        "class A(_Singleton):\n",
        "    pass\n",
        "\n",
        "class B(_Singleton):\n",
        "    pass\n",
        "\n",
        "class C(_Singleton):\n",
        "    pass\n",
        "\n",
        "# Instantiate the 3 classes plus an extra one for class C\n",
        "test_c = C().get_instance()\n",
        "test_b = B().get_instance()\n",
        "test_a = A().get_instance()\n",
        "test_d = C().get_instance()\n",
        "test_e = B().get_instance()\n",
        "test_f = A().get_instance()\n"
      ]
    },
    {
      "cell_type": "markdown",
      "source": [
        "##### **1.1.1 Test _Singleton Properties**"
      ],
      "metadata": {
        "id": "u6FqWni6O-iB"
      },
      "id": "u6FqWni6O-iB"
    },
    {
      "cell_type": "code",
      "source": [
        "# Only only one instance of a class can exist.\n",
        "# Subsequent instantiations are bound to the same instance.\n",
        "\n",
        "print (test_c,'\\n',test_b,'\\n',test_a,'\\n',test_d,'\\n',test_e,'\\n',test_f)\n",
        "\n",
        "if test_c is test_d:\n",
        "  print('\\nTrue: c and d are the same instance')\n",
        "\n",
        "if isinstance(test_b,C) and isinstance(test_a,C):\n",
        "  print('\\nTrue: a and b are the same as c')\n",
        "else:\n",
        "  print('\\nFalse: a and b are not instances of C\\n')\n",
        "\n",
        "# Singleton self._instances dictionary shows three class instantiations\n",
        "print(f'{len(_Singleton._instances)} different objects have been instantiated')\n",
        "for instance in _Singleton._instances:\n",
        "  print(instance)"
      ],
      "metadata": {
        "colab": {
          "base_uri": "https://localhost:8080/"
        },
        "id": "QzdplKkesezF",
        "outputId": "ab296270-5ec0-463f-c5bb-456e0127f78b"
      },
      "id": "QzdplKkesezF",
      "execution_count": 5,
      "outputs": [
        {
          "output_type": "stream",
          "name": "stdout",
          "text": [
            "<__main__.C object at 0x7aa1e41f7490> \n",
            " <__main__.B object at 0x7aa1e41f7220> \n",
            " <__main__.A object at 0x7aa1e41f62c0> \n",
            " <__main__.C object at 0x7aa1e41f7490> \n",
            " <__main__.B object at 0x7aa1e41f7220> \n",
            " <__main__.A object at 0x7aa1e41f62c0>\n",
            "\n",
            "True: c and d are the same instance\n",
            "\n",
            "False: a and b are not instances of C\n",
            "\n",
            "3 different objects have been instantiated\n",
            "<class '__main__.C'>\n",
            "<class '__main__.B'>\n",
            "<class '__main__.A'>\n"
          ]
        }
      ]
    },
    {
      "cell_type": "markdown",
      "id": "979a8dcb",
      "metadata": {
        "id": "979a8dcb"
      },
      "source": [
        "\n",
        "# **2.0 The Library System**\n",
        "\n",
        "### **2.1 Mixin Classes**\n",
        "\n",
        "Four mixin classes are available to provide inheritable functionality\n",
        "\n",
        "* `_Aggregator()`: Methods to add/remove/search/store a collection of Objects\n",
        "*   `_JsonIO()`: Methods to read and write JSON files\n",
        "*   `_CsvIO()`: Method to read a csv file\n",
        "* `_Singleton()`: Enures only a single instance can exist\n",
        "\n",
        "\n",
        "### **2.2 Library Classes**\n",
        "\n",
        "\n",
        "* `Library`:\n",
        " * Inherits: `_Singleton()`, `_Aggregator()`, `_JsonIO()`, `_CsvIO()` :\n",
        " * Models: The library entity. It stores the collection of books:- `BookItem()`.\n",
        "\n",
        "* `BookItem()`:\n",
        " * Models: A single book\n",
        "\n",
        "* `Subject()`:\n",
        " * Inherits: `_JsonIO()`\n",
        " * Models: Notification events lists and the subscribers assocted with them\n",
        "\n",
        "* `Observer()`:\n",
        " * Inheritable class that allows an object to subscribe (Observe) to an event (Subject)\n",
        "\n",
        "* `Notification()`:\n",
        " *  Models: A message to be sent and it's destination\n",
        "\n",
        "* `Date()`:\n",
        " * Models: A single date in seconds since the Excel Epoch (01/01/1900)\n",
        "\n",
        "* `Membership()`:\n",
        " * Inherits: `_Singleton()`, `_Aggregator()`, `_JsonIO()`, `_CsvIO()` :\n",
        " * Models: The library membership. It stores the collection of members:- `MemberItem()\n",
        "\n",
        "* `MemberItem()`:\n",
        " * Inherits : `Observer()`\n",
        " * Models: A single library member\n",
        "\n",
        "* `Loans()`:\n",
        " * Inherits: `_Singleton()`, `_Aggregator()`, `_JsonIO()`, `_CsvIO()` :\n",
        " * Models: All loans, current and past between `MemberItem()` and `BookIten()`\n",
        "\n",
        "* `LoanItem()`:\n",
        " * Models: A single loan between a member and a book\n",
        "\n",
        "* `Reservations()`:\n",
        " * Inherits: `_Singleton()`, `_Aggregator()`, `_JsonIO()`, `_CsvIO()` :\n",
        " * Models: The current reservations for all books as lists of  the members waiting.\n",
        "\n",
        "* `ReservationItem()`:\n",
        " * Models: A single reservation between a member and a book\n",
        "\n",
        "### **2.3 Interface Classes**\n",
        "\n",
        "* `LoansInterface()`:\n",
        " * Models: A menu of functions to manage borrowing and returning books\n",
        "\n",
        "* `ReservationInterface()`:\n",
        " * Models: A menu of functions to manage book reservations\n",
        "\n",
        "* `MembersInterface()`:\n",
        " * Inherits: `_JsonIO()`\n",
        " * Models: A menu of functions to perform everyday membership tasks\n",
        "\n",
        "### **2.3 Notification Classes**\n",
        "\n",
        " Notifications contain a message and the person(s) to whom it should be sent.\n",
        " Currently there are three Notifications:\n",
        "\n",
        "* `FineNotification`:\n",
        "  * Sent: When a fine is due\n",
        "* `ResNotification`:\n",
        "  * Sent: When a reserved book has become available\n",
        "* `CardNotification`:\n",
        "  * Sent: When a new library card is reay to be picked up"
      ]
    },
    {
      "cell_type": "markdown",
      "id": "78d5eea2",
      "metadata": {
        "id": "78d5eea2"
      },
      "source": [
        "# **3.0 Testing CSV & JSON IO**\n",
        "\n",
        "To start the members and book csv files contain details of current members and books. These are imported intially and but the JSON format is used to save and restore thereafter.\n",
        "\n",
        "1. The members.csv and book.csv files are imported into `Members()` and `Library()` instances.\n",
        "\n",
        "2. `Members()` and `Library()` are saved to JSON format, cleared, then restored.\n",
        "\n",
        "Care should be taken when providing field names for reading in the CSV files. They must match the `Member()` and `BookItem()` class attribute names; otherwise, they are instantiated with default values.\n"
      ]
    },
    {
      "cell_type": "code",
      "execution_count": 6,
      "id": "b0d965d8",
      "metadata": {
        "id": "b0d965d8"
      },
      "outputs": [],
      "source": [
        "from Library import Library\n",
        "from Membership import Membership\n",
        "# create a Library object\n",
        "\n",
        "lib_main = Library.get_instance()\n",
        "\n",
        "# create a Library membership object\n",
        "lib_membership = Membership.get_instance()\n",
        "\n",
        "# Import books.csv and members.csv. Changes Book's 'Number' and Members 'id' to 'uid'\n",
        "# Including 'Start_line = 1' skips the default name headings in the files (line 0)\n",
        "\n",
        "lib_main.read_csv('books.csv', Start_line='1', Fields=[\n",
        "    'uid', 'title', 'author', 'genre', 'subgenre', 'publisher'])\n",
        "\n",
        "# Read membership csv file,\n",
        "lib_membership.read_csv(\n",
        "    'members.csv', Start_line='1', Fields=[\n",
        "        'uid', 'first_name', 'last_name', 'gender', 'email', 'card_number'])\n",
        "\n",
        "# create JSON files\n",
        "lib_main.save()\n",
        "\n",
        "lib_membership.save()"
      ]
    },
    {
      "cell_type": "code",
      "execution_count": 7,
      "id": "72014ec9",
      "metadata": {
        "id": "72014ec9",
        "outputId": "07872a07-4fbe-4d16-a1a5-926f438357f9",
        "colab": {
          "base_uri": "https://localhost:8080/"
        }
      },
      "outputs": [
        {
          "output_type": "stream",
          "name": "stdout",
          "text": [
            "1 Fundamentals of Wavelets\n",
            "2 Data Smart\n",
            "3 God Created the Integers\n",
            "4 Superfreakonomics\n",
            "5 Orientalism\n",
            "\n",
            "\n",
            "\n",
            "1 Adelaide Cunningham\n",
            "2 Charlie Roberts\n",
            "3 Eric Cooper\n",
            "4 Cadie Hall\n",
            "5 Darcy Howard\n"
          ]
        }
      ],
      "source": [
        "# Look at first five books in lib_main internal dictionary.\n",
        "i = 0\n",
        "for i, entry in enumerate(lib_main.collection.items()):\n",
        "    print(entry[0], entry[1].title)\n",
        "    if i == 4:\n",
        "        break\n",
        "print('\\n\\n')\n",
        "# Look at first five members in lib_membership internal dictionary.\n",
        "i = 0\n",
        "for i, entry in enumerate(lib_membership.collection.items()):\n",
        "    print(entry[0], entry[1].first_name, entry[1].last_name)\n",
        "    if i == 4:\n",
        "        break"
      ]
    },
    {
      "cell_type": "code",
      "execution_count": 8,
      "id": "224ee405",
      "metadata": {
        "id": "224ee405"
      },
      "outputs": [],
      "source": [
        "# Clear internal dictionaries\n",
        "lib_membership.collection = {}\n",
        "lib_main.collection = {}\n",
        "\n",
        "\n",
        "# restore from JSON files\n",
        "lib_membership.restore()\n",
        "lib_main.restore()"
      ]
    },
    {
      "cell_type": "code",
      "execution_count": 9,
      "id": "c3c79e5d",
      "metadata": {
        "id": "c3c79e5d",
        "outputId": "aaa0be4b-a792-4109-e3ad-170a1ec80535",
        "colab": {
          "base_uri": "https://localhost:8080/"
        }
      },
      "outputs": [
        {
          "output_type": "stream",
          "name": "stdout",
          "text": [
            "1 Fundamentals of Wavelets\n",
            "2 Data Smart\n",
            "3 God Created the Integers\n",
            "4 Superfreakonomics\n",
            "5 Orientalism\n",
            "\n",
            "\n",
            "\n",
            "1 Adelaide Cunningham\n",
            "2 Charlie Roberts\n",
            "3 Eric Cooper\n",
            "4 Cadie Hall\n",
            "5 Darcy Howard\n"
          ]
        }
      ],
      "source": [
        "# Check the lib_main internal dictionary has been restored.\n",
        "\n",
        "i = 0\n",
        "for i, entry in enumerate(lib_main.collection.items()):\n",
        "    print(entry[0], entry[1].title)\n",
        "    if i == 4:\n",
        "        break\n",
        "print('\\n\\n')\n",
        "# Check the lib_membership internal dictionary has been restored.\n",
        "i = 0\n",
        "for i, entry in enumerate(lib_membership.collection.items()):\n",
        "    print(entry[0], entry[1].first_name, entry[1].last_name)\n",
        "    if i == 4:\n",
        "        break"
      ]
    },
    {
      "cell_type": "markdown",
      "id": "8bd22ce0",
      "metadata": {
        "id": "8bd22ce0"
      },
      "source": [
        "# **4.0 Testing Loans Structure**\n",
        "\n",
        "\n"
      ]
    },
    {
      "cell_type": "code",
      "execution_count": 10,
      "id": "4e4d2500",
      "metadata": {
        "id": "4e4d2500"
      },
      "outputs": [],
      "source": [
        "from Loans import Loans\n",
        "# create a Loans object\n",
        "lib_loans = Loans()\n",
        "\n",
        "# Import loans.csv test file. Setting the correct field names.\n",
        "# 'Start_line = 0' as no column names are provided\n",
        "\n",
        "lib_loans.read_csv('bookloans.csv',Start_line = '0', Fields=[\n",
        "    'book_uid', 'member_uid', 'start_date', 'return_date'])\n",
        "\n",
        "# Save internal dictionary\n",
        "lib_loans.save()\n",
        "\n",
        "# Clear internal dictionary\n",
        "lib_loans.collection = {}\n",
        "\n",
        "# Restore dictionary\n",
        "lib_loans.restore()"
      ]
    },
    {
      "cell_type": "code",
      "execution_count": 11,
      "id": "b8bc170b",
      "metadata": {
        "id": "b8bc170b",
        "outputId": "9e96a495-e0cb-4ea1-adf7-f515506f5cd4",
        "colab": {
          "base_uri": "https://localhost:8080/"
        }
      },
      "outputs": [
        {
          "output_type": "stream",
          "name": "stdout",
          "text": [
            "1-101 06/01/2019 25/01/2019 Fundamentals of Wavelets Lloyd\n",
            "1-78 31/01/2019 09/02/2019 Fundamentals of Wavelets Richards\n",
            "1-183 17/02/2019 03/03/2019 Fundamentals of Wavelets Williams\n",
            "1-26 10/03/2019 12/03/2019 Fundamentals of Wavelets Rogers\n",
            "1-38 19/03/2019 24/03/2019 Fundamentals of Wavelets Richards\n",
            "\n",
            "[<Loans.LoanItem object at 0x7aa1d43cff70>]\n"
          ]
        }
      ],
      "source": [
        "# Look at first five items in lib_loans internal dictionary\n",
        "# We display the lastest loan between the Member and a Book\n",
        "\n",
        "i = 0\n",
        "for i, entry in enumerate(lib_loans.collection.items()):\n",
        "    print(entry[0],  # The Compound UID\n",
        "          entry[1][-1].start_date.as_date(),\n",
        "          entry[1][-1].return_date.as_date(),\n",
        "          lib_main.search(entry[1][-1].book_uid).title,\n",
        "          lib_membership.search(entry[1][-1].member_uid).last_name\n",
        "          )\n",
        "    if i == 4:\n",
        "        break\n",
        "\n",
        "# Search for single Loanitem with the uids of the library member and book\n",
        "\n",
        "print()\n",
        "print(lib_loans.search('1','101'))\n",
        "\n",
        "\n",
        "# Clear Loans.collection\n",
        "\n",
        "lib_loans.collection = {}"
      ]
    },
    {
      "cell_type": "markdown",
      "id": "7ccb67a3",
      "metadata": {
        "id": "7ccb67a3"
      },
      "source": [
        "___\n",
        "\n",
        "# **5.0 Testing Loans & Returns Interface**\n",
        "\n",
        "**Default Settings:**\n",
        "\n",
        "- A member can have a maximum of five books on loan.\n",
        "- The standard loan period is fourteen days.\n",
        "- A fine is calculated at £1 per day overdue.\n",
        "\n",
        " * Once a fine is issued, it is added to the members' account. No further calculations are performed, such as a fine increasing the longer it is left.\n",
        "\n",
        "**Process:**\n",
        "\n",
        "To test the functionality, ten people are represented as presenting a random number of books to check out.\n",
        "\n",
        "* The code allows for more than the maximum number of books to be presented.\n",
        "\n",
        "* Since the books are picked at random, some of them should already be on loan.\n",
        " * Error messages for each case should pop up on the console.\n",
        "\n",
        "* A single-member also loans the same book multiple times to test they are all recorded.\n",
        "\n",
        "* The books are then returned with the start date randomly backdated to produce some overdue books.\n",
        " * Overdue books should result in a Fine notification being sent to the member\n",
        "\n"
      ]
    },
    {
      "cell_type": "code",
      "execution_count": 12,
      "id": "0730b276",
      "metadata": {
        "id": "0730b276",
        "outputId": "ba385fa3-2bdb-46f4-a67c-625ebc40c6c5",
        "colab": {
          "base_uri": "https://localhost:8080/"
        }
      },
      "outputs": [
        {
          "output_type": "stream",
          "name": "stdout",
          "text": [
            "Bookless in Baghdad: is On loan to Kelsey Morrison\n",
            "Maqta-e-Ghalib: is On loan to Maria Thomas\n",
            "Argumentative Indian, The: is On loan to Ashton Barrett\n",
            "Winter of Our Discontent, The: is On loan to Ashton Barrett\n",
            "Dylan on Dylan: is On loan to Ashton Barrett\n",
            "Veteran, The: is On loan to Ashton Barrett\n",
            "Idea of Justice, The: is On loan to Ashton Barrett\n",
            "Python for Data Analysis: is On loan to Catherine Ferguson\n",
            "Physics & Philosophy: is On loan to Catherine Ferguson\n",
            "Journal of a Novel: is On loan to Connie Gibson\n",
            "Asami Asami: is On loan to Connie Gibson\n",
            "Age of Wrath, The: is On loan to Connie Gibson\n",
            "Trial, The: is On loan to Connie Gibson\n",
            "Burning Bright: is On loan to Connie Gibson\n",
            "\n",
            " ----------------------------------------------------------------------\n",
            "\n",
            "Connie Gibson has the maximum number of books on loan:\n",
            "\n",
            "48, Journal of a Novel by Steinbeck, John\n",
            "47, Asami Asami by Deshpande, P L\n",
            "15, Age of Wrath, The by Eraly, Abraham\n",
            "16, Trial, The by Kafka, Frank\n",
            "98, Burning Bright by Steinbeck, John\n",
            "\n",
            "\n",
            "Tales of Mystery and Imagination: is On loan to Eleanor Douglas\n",
            "Beautiful and the Damned, The: is On loan to Eleanor Douglas\n",
            "Case of the Lame Canary, The: is On loan to Eleanor Douglas\n",
            "Russian Journal, A: is On loan to Eleanor Douglas\n",
            "Drunkard's Walk, The: is On loan to Arianna Barnes\n",
            "Jurassic Park: is On loan to Arianna Barnes\n",
            "Superfreakonomics: is On loan to Arianna Barnes\n",
            "Gun Gayin Awadi: is On loan to Arianna Barnes\n",
            "Winter of Our Discontent, The: is already on loan to Ashton Barrett: Unable to loan it\n",
            "Data Scientists at Work: is On loan to Arianna Barnes\n",
            "\n",
            " ----------------------------------------------------------------------\n",
            "\n",
            "Arianna Barnes has the maximum number of books on loan:\n",
            "\n",
            "8, Drunkard's Walk, The by Mlodinow, Leonard\n",
            "41, Jurassic Park by Crichton, Michael\n",
            "4, Superfreakonomics by Dubner, Stephen\n",
            "78, Gun Gayin Awadi by Deshpande, P L\n",
            "11, Data Scientists at Work by Sebastian Gutierrez\n",
            "\n",
            "\n",
            "Outsider, The: is On loan to Elise Walker\n",
            "False Impressions: is On loan to Elise Walker\n",
            "Amulet of Samarkand, The: is On loan to Elise Walker\n",
            "Asami Asami: is already on loan to Connie Gibson: Unable to loan it\n",
            "Age of Discontuinity, The: is On loan to Roland Johnson\n",
            "Complete Sherlock Holmes, The - Vol I: is On loan to Roland Johnson\n",
            "Freakonomics: is On loan to Roland Johnson\n",
            "Statistical Decision Theory': is On loan to Roland Johnson\n",
            "India from Midnight to Milennium: is On loan to Marcus Parker\n"
          ]
        }
      ],
      "source": [
        "from Interface import LoansInterface\n",
        "import random\n",
        "from Observer import Subject\n",
        "from Reservations import Reservations\n",
        "\n",
        "# Setup Observerable Events\n",
        "notify = Subject(lib_membership)\n",
        "notify.add_events('Loans', 'Reservations', 'Books', 'NewCards')\n",
        "\n",
        "# Instantiate reservations\n",
        "lib_reservations = Reservations(lib_main, lib_membership, notify)\n",
        "\n",
        "# Instantiate the LoansInterface\n",
        "LoansMenu = LoansInterface(lib_loans, lib_membership, lib_main, lib_reservations, notify)\n",
        "\n",
        "# Test function: Simulates a selection of people with random numbers of books\n",
        "# Random choice set to 8 to test max number of loans\n",
        "\n",
        "# list of member_uid's\n",
        "members_of_the_public = ['20', '40', '60', '80', '100', '120', '140', '159', '180', '200']\n",
        "\n",
        "for member_uid in members_of_the_public:\n",
        "    # Retrieves the Member instance with the member_uid\n",
        "    person = lib_membership.search(member_uid)\n",
        "\n",
        "    # Creates a list of books each member wants to loan\n",
        "    books = []\n",
        "    for y in range(random.randint(1, 8)):  # Random choice set to 8 to test max number of loans\n",
        "        books.append(lib_main.search(str(random.randint(1, 100)))) # random book_uid\n",
        "\n",
        "    LoansMenu.checkout_books(person, *books)\n",
        "\n"
      ]
    },
    {
      "cell_type": "code",
      "execution_count": 13,
      "id": "e7bef83b",
      "metadata": {
        "id": "e7bef83b",
        "outputId": "94736359-4c3f-4c6a-a39a-b4d1699abcbc",
        "colab": {
          "base_uri": "https://localhost:8080/"
        }
      },
      "outputs": [
        {
          "output_type": "stream",
          "name": "stdout",
          "text": [
            "To Sir With Love: is On loan to Adelaide Cunningham\n",
            "To Sir With Love: is On loan to Adelaide Cunningham\n",
            "To Sir With Love: is On loan to Adelaide Cunningham\n",
            "[<Loans.LoanItem object at 0x7aa1d42f4be0>, <Loans.LoanItem object at 0x7aa1d43fd360>, <Loans.LoanItem object at 0x7aa1e40a12d0>]\n"
          ]
        }
      ],
      "source": [
        "# Test multiple loans of a book by the same person are recorded as\n",
        "# seperate loans\n",
        "\n",
        "LoansMenu.checkout_books(lib_membership.search('1'), lib_main.search('120'))\n",
        "LoansMenu.return_books(lib_main.search('120'))\n",
        "LoansMenu.checkout_books(lib_membership.search('1'), lib_main.search('120'))\n",
        "LoansMenu.return_books(lib_main.search('120'))\n",
        "LoansMenu.checkout_books(lib_membership.search('1'), lib_main.search('120'))\n",
        "LoansMenu.return_books(lib_main.search('120'))\n",
        "\n",
        "# Returns the instances of LoanItems with compound key '120-1'\n",
        "print(lib_loans.search('120', '1'))"
      ]
    },
    {
      "cell_type": "code",
      "execution_count": 14,
      "id": "2a473293",
      "metadata": {
        "id": "2a473293",
        "outputId": "31a13045-621d-438f-fdc0-3fb7fc9d47b5",
        "colab": {
          "base_uri": "https://localhost:8080/"
        }
      },
      "outputs": [
        {
          "output_type": "stream",
          "name": "stdout",
          "text": [
            "\n",
            " ----------------------------------------------------------------------\n",
            "\n",
            "Fine due for book: Journal of a Novel\n",
            "For: Connie Gibson\n",
            "Borrowed on: 04/11/2023  Returned on: 22/11/2023  Days overdue: 4  Fine: £4.0\n",
            "\n",
            "Emailed to: c.gibson@randatmail.com \n",
            "Dear Connie Gibson,\n",
            "You returned the book Journal of a Novel 4 days late.\n",
            "There is now a fine due of: £4.0\n",
            "\n",
            "\n",
            " ----------------------------------------------------------------------\n",
            "\n",
            "Fine due for book: Age of Wrath, The\n",
            "For: Connie Gibson\n",
            "Borrowed on: 07/11/2023  Returned on: 22/11/2023  Days overdue: 1  Fine: £1.0\n",
            "\n",
            "Emailed to: c.gibson@randatmail.com \n",
            "Dear Connie Gibson,\n",
            "You returned the book Age of Wrath, The 1 days late.\n",
            "There is now a fine due of: £1.0\n",
            "\n",
            "\n",
            " ----------------------------------------------------------------------\n",
            "\n",
            "Fine due for book: Tales of Mystery and Imagination\n",
            "For: Eleanor Douglas\n",
            "Borrowed on: 05/11/2023  Returned on: 22/11/2023  Days overdue: 3  Fine: £3.0\n",
            "\n",
            "Emailed to: e.douglas@randatmail.com \n",
            "Dear Eleanor Douglas,\n",
            "You returned the book Tales of Mystery and Imagination 3 days late.\n",
            "There is now a fine due of: £3.0\n",
            "\n",
            "\n",
            " ----------------------------------------------------------------------\n",
            "\n",
            "Fine due for book: Jurassic Park\n",
            "For: Arianna Barnes\n",
            "Borrowed on: 05/11/2023  Returned on: 22/11/2023  Days overdue: 3  Fine: £3.0\n",
            "\n",
            "Emailed to: a.barnes@randatmail.com \n",
            "Dear Arianna Barnes,\n",
            "You returned the book Jurassic Park 3 days late.\n",
            "There is now a fine due of: £3.0\n",
            "\n",
            "\n",
            " ----------------------------------------------------------------------\n",
            "\n",
            "Fine due for book: Age of Discontuinity, The\n",
            "For: Roland Johnson\n",
            "Borrowed on: 03/11/2023  Returned on: 22/11/2023  Days overdue: 5  Fine: £5.0\n",
            "\n",
            "Emailed to: r.johnson@randatmail.com \n",
            "Dear Roland Johnson,\n",
            "You returned the book Age of Discontuinity, The 5 days late.\n",
            "There is now a fine due of: £5.0\n",
            "\n",
            "\n",
            " ----------------------------------------------------------------------\n",
            "\n",
            "Fine due for book: Freakonomics\n",
            "For: Roland Johnson\n",
            "Borrowed on: 07/11/2023  Returned on: 22/11/2023  Days overdue: 1  Fine: £1.0\n",
            "\n",
            "Emailed to: r.johnson@randatmail.com \n",
            "Dear Roland Johnson,\n",
            "You returned the book Freakonomics 1 days late.\n",
            "There is now a fine due of: £1.0\n",
            "\n",
            "\n",
            " ----------------------------------------------------------------------\n",
            "\n",
            "Fine due for book: India from Midnight to Milennium\n",
            "For: Marcus Parker\n",
            "Borrowed on: 05/11/2023  Returned on: 22/11/2023  Days overdue: 3  Fine: £3.0\n",
            "\n",
            "Emailed to: m.parker@randatmail.com \n",
            "Dear Marcus Parker,\n",
            "You returned the book India from Midnight to Milennium 3 days late.\n",
            "There is now a fine due of: £3.0\n",
            "\n"
          ]
        }
      ],
      "source": [
        "# Test for fines and appropriate notifivation\n",
        "# The same members of puplic now return their books.\n",
        "\n",
        "for member_uid in members_of_the_public:\n",
        "    # Get all the current loans for a member\n",
        "    for loan in lib_loans.member_loans(member_uid):\n",
        "        # Adjusts the loan start date by a random number of days (max 20) earlier.\n",
        "        loan.start_date.set_val(loan.start_date.as_val() - random.randint(1, 20))\n",
        "        LoansMenu.return_books(lib_main.search(loan.book_uid))"
      ]
    },
    {
      "cell_type": "code",
      "execution_count": 15,
      "id": "3f9f9b47",
      "metadata": {
        "id": "3f9f9b47",
        "outputId": "87dd3764-f6d3-4668-c687-20a5bf4bbf15",
        "colab": {
          "base_uri": "https://localhost:8080/"
        }
      },
      "outputs": [
        {
          "output_type": "stream",
          "name": "stdout",
          "text": [
            "{'email': 'c.gibson@randatmail.com', 'first_name': 'Connie', 'uid': '100', 'last_name': 'Gibson', 'gender': 'Female', 'card_number': '1003', 'no_of_loans': '0', 'fines': '5.0'}\n",
            "{'email': 'e.douglas@randatmail.com', 'first_name': 'Eleanor', 'uid': '120', 'last_name': 'Douglas', 'gender': 'Female', 'card_number': '1201', 'no_of_loans': '0', 'fines': '3.0'}\n",
            "{'email': 'a.barnes@randatmail.com', 'first_name': 'Arianna', 'uid': '140', 'last_name': 'Barnes', 'gender': 'Female', 'card_number': '1403', 'no_of_loans': '0', 'fines': '3.0'}\n",
            "{'email': 'r.johnson@randatmail.com', 'first_name': 'Roland', 'uid': '180', 'last_name': 'Johnson', 'gender': 'Male', 'card_number': '1802', 'no_of_loans': '0', 'fines': '6.0'}\n",
            "{'email': 'm.parker@randatmail.com', 'first_name': 'Marcus', 'uid': '200', 'last_name': 'Parker', 'gender': 'Male', 'card_number': '2002', 'no_of_loans': '0', 'fines': '3.0'}\n"
          ]
        }
      ],
      "source": [
        "# Check all members fines have been recorded\n",
        "\n",
        "for member in lib_membership.collection:\n",
        "\n",
        "    if lib_membership.collection[member].has_fine():\n",
        "        print(lib_membership.collection[member]) # The Member __str__ method returns a dictionary of attributes"
      ]
    },
    {
      "cell_type": "markdown",
      "id": "50f8b4b7",
      "metadata": {
        "id": "50f8b4b7"
      },
      "source": [
        "# 6.0 Test Membership Interface\n",
        "\n",
        "**Process:**\n",
        "\n",
        "- Add some new members\n",
        "- Retrieve all members in the membership waiting for their cards (card number = 0)\n",
        "- Send the list of new members to the card printers\n",
        "\n",
        "- Update the members' card details when a new card is issued to see if the card issue number is added to the end of members number correctly.\n",
        "\n",
        "\n"
      ]
    },
    {
      "cell_type": "code",
      "execution_count": 16,
      "id": "59de1db8",
      "metadata": {
        "id": "59de1db8"
      },
      "outputs": [],
      "source": [
        "# Testing functionality\n",
        "from Interface import MembersInterface\n",
        "#Instantiate Interface\n",
        "MemMenu = MembersInterface(lib_membership, notify)\n",
        "\n",
        "# Add members with test some test data\n",
        "\n",
        "MemMenu.add_member(first_name='David', last_name='Jason', gender='Male', email='dj@omail.com')\n",
        "MemMenu.add_member(first_name='Clare', last_name='Wilson', gender='Female', email='c.wilson@omail.com')\n",
        "MemMenu.add_member(first_name='Kate', last_name='Wilson', gender='Female', email='k.wilson@omail.com')\n",
        "MemMenu.add_member(first_name='Jude', last_name='Davis', gender='Female', email='jude@omail.com')\n",
        "MemMenu.add_member(first_name='Fred', last_name='Flintstone', gender='Male', email='fred@dinomail.com')"
      ]
    },
    {
      "cell_type": "code",
      "execution_count": 17,
      "id": "70f8a4a3",
      "metadata": {
        "id": "70f8a4a3",
        "outputId": "555c0dc7-ac1d-4037-e3d2-26d90c0adc73",
        "colab": {
          "base_uri": "https://localhost:8080/"
        }
      },
      "outputs": [
        {
          "output_type": "stream",
          "name": "stdout",
          "text": [
            "{'email': 'dj@omail.com', 'first_name': 'David', 'uid': '201', 'last_name': 'Jason', 'gender': 'Male', 'card_number': '0', 'no_of_loans': '0', 'fines': '0.0'}\n",
            "{'email': 'c.wilson@omail.com', 'first_name': 'Clare', 'uid': '202', 'last_name': 'Wilson', 'gender': 'Female', 'card_number': '0', 'no_of_loans': '0', 'fines': '0.0'}\n",
            "{'email': 'k.wilson@omail.com', 'first_name': 'Kate', 'uid': '203', 'last_name': 'Wilson', 'gender': 'Female', 'card_number': '0', 'no_of_loans': '0', 'fines': '0.0'}\n",
            "{'email': 'jude@omail.com', 'first_name': 'Jude', 'uid': '204', 'last_name': 'Davis', 'gender': 'Female', 'card_number': '0', 'no_of_loans': '0', 'fines': '0.0'}\n",
            "{'email': 'fred@dinomail.com', 'first_name': 'Fred', 'uid': '205', 'last_name': 'Flintstone', 'gender': 'Male', 'card_number': '0', 'no_of_loans': '0', 'fines': '0.0'}\n",
            "\n",
            "[<Membership.Member object at 0x7aa1d42f7c70>, <Membership.Member object at 0x7aa1d42f5900>, <Membership.Member object at 0x7aa1d42f7ee0>, <Membership.Member object at 0x7aa1d42f41c0>, <Membership.Member object at 0x7aa1d42f58d0>]\n"
          ]
        }
      ],
      "source": [
        "# Check they have been added to the Membership database and the new members list\n",
        "\n",
        "# They should have automatically been given the next member_uid.\n",
        "# The last uid from the test data is 200, So numbers 201 to 205 should be issued.\n",
        "\n",
        "for member in range(201,206):\n",
        "    print(lib_membership.search(str(member)))\n",
        "\n",
        "print()\n",
        "# Check the new members list\n",
        "\n",
        "print(MemMenu.new_members)"
      ]
    },
    {
      "cell_type": "code",
      "execution_count": 18,
      "id": "1a0557b2",
      "metadata": {
        "id": "1a0557b2",
        "outputId": "637d8a8c-86cd-4bd9-9584-39c66e94782f",
        "colab": {
          "base_uri": "https://localhost:8080/"
        }
      },
      "outputs": [
        {
          "output_type": "stream",
          "name": "stdout",
          "text": [
            "\n",
            " ----------------------------------------------------------------------\n",
            "Console\n",
            "\n",
            "Card details for David Jason have been updated with card number: 2011\n",
            "member card notice\n",
            "\n",
            "Emailed to: dj@omail.com\n",
            "Dear David,\n",
            "Your new library card is available to be picked up \n",
            "Card number: 2011\n",
            "\n",
            "\n",
            " ----------------------------------------------------------------------\n",
            "Console\n",
            "\n",
            "Card details for Clare Wilson have been updated with card number: 2021\n",
            "member card notice\n",
            "\n",
            "Emailed to: c.wilson@omail.com\n",
            "Dear Clare,\n",
            "Your new library card is available to be picked up \n",
            "Card number: 2021\n",
            "\n",
            "\n",
            " ----------------------------------------------------------------------\n",
            "Console\n",
            "\n",
            "Card details for Kate Wilson have been updated with card number: 2031\n",
            "member card notice\n",
            "\n",
            "Emailed to: k.wilson@omail.com\n",
            "Dear Kate,\n",
            "Your new library card is available to be picked up \n",
            "Card number: 2031\n",
            "\n",
            "\n",
            " ----------------------------------------------------------------------\n",
            "Console\n",
            "\n",
            "Card details for David Jason have been updated with card number: 2012\n",
            "member card notice\n",
            "\n",
            "Emailed to: dj@omail.com\n",
            "Dear David,\n",
            "Your new library card is available to be picked up \n",
            "Card number: 2012\n",
            "\n",
            "\n",
            " ----------------------------------------------------------------------\n",
            "Console\n",
            "\n",
            "Card details for Clare Wilson have been updated with card number: 2022\n",
            "member card notice\n",
            "\n",
            "Emailed to: c.wilson@omail.com\n",
            "Dear Clare,\n",
            "Your new library card is available to be picked up \n",
            "Card number: 2022\n",
            "\n",
            "\n",
            " ----------------------------------------------------------------------\n",
            "Console\n",
            "\n",
            "Card details for Kate Wilson have been updated with card number: 2032\n",
            "member card notice\n",
            "\n",
            "Emailed to: k.wilson@omail.com\n",
            "Dear Kate,\n",
            "Your new library card is available to be picked up \n",
            "Card number: 2032\n",
            "\n"
          ]
        }
      ],
      "source": [
        "# Testing members getting their new cards\n",
        "\n",
        "MemMenu.update_card('201', '202', '203')\n",
        "\n",
        "# Test members getting their next card issue\n",
        "\n",
        "MemMenu.update_card('201', '202', '203')\n",
        "\n"
      ]
    },
    {
      "cell_type": "markdown",
      "id": "a3572da0",
      "metadata": {
        "id": "a3572da0"
      },
      "source": [
        "# 6.0 Reservation Testing.\n",
        "\n",
        "If the reservation system is working, then:\n",
        "\n",
        " - If a book is on loan and someone makes a reservation, they should be told the book is currently loaned, and they will be notified when it becomes available.\n",
        "\n",
        " - If a book is available and two people make a reservation. The first should be told they can have it immediately. The second should be informed it is reserved, and they will be notified when it is available.\n",
        "\n",
        " - Only the first person in the reservation queue should be allowed to borrow the book. They should be removed from the queue when they do.\n",
        "\n"
      ]
    },
    {
      "cell_type": "code",
      "execution_count": 19,
      "id": "95922d4d",
      "metadata": {
        "id": "95922d4d",
        "outputId": "5b4e9a8b-1bc7-4717-dec5-4cb519e2bade",
        "colab": {
          "base_uri": "https://localhost:8080/"
        }
      },
      "outputs": [
        {
          "output_type": "stream",
          "name": "stdout",
          "text": [
            "Great War for Civilization, The: is On loan to Kate Wilson\n",
            "\n",
            " ----------------------------------------------------------------------\n",
            "\n",
            "The book: Great War for Civilization, The is currently: On loan.\n",
            "\n",
            "Reservation made by: David Jason on 22/11/2023\n",
            "Currently in queue position: 1\n",
            "\n",
            "You will be contacted when it becomes available\n",
            "\n",
            " ----------------------------------------------------------------------\n",
            "\n",
            "The book: Great War for Civilization, The is currently: On loan.\n",
            "\n",
            "Reservation made by: Clare Wilson on 22/11/2023\n",
            "Currently in queue position: 2\n",
            "\n",
            "You will be contacted when it becomes available\n"
          ]
        }
      ],
      "source": [
        "# Testing reservations\n",
        "from Reservations import Reservations\n",
        "from Interface import ReservationInterface\n",
        "\n",
        "# Instantiate Reservations\n",
        "lib_reservations = Reservations(lib_main, lib_membership, notify)\n",
        "\n",
        "# Instantiate the Interface\n",
        "ResMenu = ReservationInterface(lib_reservations, lib_membership, lib_main)\n",
        "\n",
        "# One Memeber loans a book, two others make reservations.\n",
        "LoansMenu.checkout_books(lib_membership.search('203'),lib_main.search('110'))\n",
        "ResMenu.make_reservation(lib_membership.search('201'), '110')\n",
        "ResMenu.make_reservation(lib_membership.search('202'), '110')"
      ]
    },
    {
      "cell_type": "code",
      "execution_count": 20,
      "id": "c5c2b7df",
      "metadata": {
        "id": "c5c2b7df",
        "outputId": "c3747afc-7cf0-43fb-9b27-f30c355ceef3",
        "colab": {
          "base_uri": "https://localhost:8080/"
        }
      },
      "outputs": [
        {
          "output_type": "stream",
          "name": "stdout",
          "text": [
            "\n",
            " ----------------------------------------------------------------------\n",
            "\n",
            "The book: We the Living is currently: Available.\n",
            "\n",
            "Reservation made by: David Jason on 22/11/2023\n",
            "Currently in queue position: 1\n",
            "\n",
            "The book is available now\n",
            "\n",
            " ----------------------------------------------------------------------\n",
            "\n",
            "The book: We the Living is currently: Reserved.\n",
            "\n",
            "Reservation made by: Clare Wilson on 22/11/2023\n",
            "Currently in queue position: 2\n",
            "\n",
            "You will be contacted when it becomes available\n"
          ]
        }
      ],
      "source": [
        "# Two members reserve a book, this time it is available to start with.\n",
        "\n",
        "ResMenu.make_reservation(lib_membership.search('201'), '111')\n",
        "ResMenu.make_reservation(lib_membership.search('202'), '111')"
      ]
    },
    {
      "cell_type": "code",
      "execution_count": 21,
      "id": "8ba5df46",
      "metadata": {
        "id": "8ba5df46",
        "colab": {
          "base_uri": "https://localhost:8080/"
        },
        "outputId": "bfe3c395-8743-4320-9164-7d9732792744"
      },
      "outputs": [
        {
          "output_type": "stream",
          "name": "stdout",
          "text": [
            "\n",
            " ----------------------------------------------------------------------\n",
            "Console:\n",
            "The book is reserved by another member.\n",
            "\n",
            "You are currently in position 1 of the queue for this book\n",
            "You will be notified when the book is available for you to loan\n"
          ]
        }
      ],
      "source": [
        "# Both members try to loan the book. Clare in position 2 first, then David\n",
        "LoansMenu.checkout_books(lib_membership.search('202'),lib_main.search('111'))\n",
        "LoansMenu.checkout_books(lib_membership.search('201'),lib_main.search('111'))\n"
      ]
    },
    {
      "cell_type": "code",
      "execution_count": 22,
      "id": "b555036b",
      "metadata": {
        "id": "b555036b",
        "outputId": "c610fb3d-bf24-467d-d352-cfb4a18ab0af",
        "colab": {
          "base_uri": "https://localhost:8080/"
        }
      },
      "outputs": [
        {
          "output_type": "stream",
          "name": "stdout",
          "text": [
            "{'110': [{'book_uid': '110', 'member_uid': '201', 'date_made': '45252'}, {'book_uid': '110', 'member_uid': '202', 'date_made': '45252'}], '111': [{'book_uid': '111', 'member_uid': '202', 'date_made': '45252'}]}\n"
          ]
        }
      ],
      "source": [
        "# Check the reservations are stored\n",
        "# There should be two for book '110' and one for book '111'\n",
        "\n",
        "print(lib_reservations)"
      ]
    },
    {
      "cell_type": "markdown",
      "source": [],
      "metadata": {
        "id": "5FXNYR-M0Mha"
      },
      "id": "5FXNYR-M0Mha"
    },
    {
      "cell_type": "code",
      "execution_count": 23,
      "id": "de3cb815",
      "metadata": {
        "id": "de3cb815",
        "colab": {
          "base_uri": "https://localhost:8080/"
        },
        "outputId": "0a30f0dd-fd4b-4866-cad3-8857a7db02af"
      },
      "outputs": [
        {
          "output_type": "stream",
          "name": "stdout",
          "text": [
            "Down and Out in Paris & London: is On loan to Clare Wilson\n"
          ]
        }
      ],
      "source": [
        "# A book is loaned out\n",
        "LoansMenu.checkout_books(lib_membership.search('202'), lib_main.search('101'))"
      ]
    },
    {
      "cell_type": "code",
      "execution_count": 24,
      "id": "b46fec86",
      "metadata": {
        "id": "b46fec86",
        "colab": {
          "base_uri": "https://localhost:8080/"
        },
        "outputId": "d83b6480-a720-474c-a1f8-de47c6f5bb52"
      },
      "outputs": [
        {
          "output_type": "stream",
          "name": "stdout",
          "text": [
            "\n",
            " ----------------------------------------------------------------------\n",
            "\n",
            "The book: Down and Out in Paris & London is currently: On loan.\n",
            "\n",
            "Reservation made by: David Jason on 22/11/2023\n",
            "Currently in queue position: 1\n",
            "\n",
            "You will be contacted when it becomes available\n"
          ]
        }
      ],
      "source": [
        "#  David makes a reservation\n",
        "ResMenu.make_reservation(lib_membership.search('201'), '101')"
      ]
    },
    {
      "cell_type": "code",
      "execution_count": 25,
      "id": "531705af",
      "metadata": {
        "id": "531705af",
        "colab": {
          "base_uri": "https://localhost:8080/"
        },
        "outputId": "a52c8be5-a00d-4a08-b592-73b70c7e1fb7"
      },
      "outputs": [
        {
          "output_type": "stream",
          "name": "stdout",
          "text": [
            "\n",
            " ----------------------------------------------------------------------\n",
            "\n",
            "The book: Down and Out in Paris & London is currently: On loan.\n",
            "\n",
            "Reservation made by: Fred Flintstone on 22/11/2023\n",
            "Currently in queue position: 2\n",
            "\n",
            "You will be contacted when it becomes available\n"
          ]
        }
      ],
      "source": [
        "\n",
        "# Fred makes a reservation for the same book\n",
        "ResMenu.make_reservation(lib_membership.search('205'), '101')"
      ]
    },
    {
      "cell_type": "code",
      "execution_count": 26,
      "id": "b64b83a9",
      "metadata": {
        "id": "b64b83a9",
        "colab": {
          "base_uri": "https://localhost:8080/"
        },
        "outputId": "9081e20e-9e37-4c07-95e9-e1d888f028d9"
      },
      "outputs": [
        {
          "output_type": "stream",
          "name": "stdout",
          "text": [
            "\n",
            "Emailed to: dj@omail.com \n",
            "Dear David Jason,\n",
            "Down and Out in Paris & London which you reserved on 22/11/2023\n",
            "is now available for you pick up.\n",
            "\n"
          ]
        }
      ],
      "source": [
        "# Book is returned\n",
        "LoansMenu.return_books(lib_main.search('101'))"
      ]
    },
    {
      "cell_type": "code",
      "execution_count": 27,
      "id": "b3668b9d",
      "metadata": {
        "id": "b3668b9d",
        "colab": {
          "base_uri": "https://localhost:8080/"
        },
        "outputId": "f30754f6-219e-4e26-c5c6-aa5003c2b5cb"
      },
      "outputs": [
        {
          "output_type": "stream",
          "name": "stdout",
          "text": [
            "\n",
            "Emailed to: fred@dinomail.com \n",
            "Dear Fred Flintstone,\n",
            "Down and Out in Paris & London which you reserved on 22/11/2023\n",
            "is now available for you pick up.\n",
            "\n"
          ]
        }
      ],
      "source": [
        "# David gets his email,loans the book and returns it\n",
        "\n",
        "LoansMenu.checkout_books(lib_membership.search('201'), lib_main.search('101'))\n",
        "LoansMenu.return_books(lib_main.search('101'))"
      ]
    },
    {
      "cell_type": "code",
      "execution_count": 28,
      "id": "93ea1a0b",
      "metadata": {
        "id": "93ea1a0b"
      },
      "outputs": [],
      "source": [
        "# Fred sees the email and loans book\n",
        "\n",
        "LoansMenu.checkout_books(lib_membership.search('205'), lib_main.search('101'))"
      ]
    }
  ],
  "metadata": {
    "kernelspec": {
      "display_name": "Python 3 (ipykernel)",
      "language": "python",
      "name": "python3"
    },
    "language_info": {
      "codemirror_mode": {
        "name": "ipython",
        "version": 3
      },
      "file_extension": ".py",
      "mimetype": "text/x-python",
      "name": "python",
      "nbconvert_exporter": "python",
      "pygments_lexer": "ipython3",
      "version": "3.9.13"
    },
    "colab": {
      "provenance": [],
      "collapsed_sections": [
        "cwauLm0X4485",
        "59c32fa3"
      ],
      "include_colab_link": true
    }
  },
  "nbformat": 4,
  "nbformat_minor": 5
}